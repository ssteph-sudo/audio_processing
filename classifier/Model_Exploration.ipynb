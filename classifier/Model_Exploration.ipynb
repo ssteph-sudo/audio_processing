{
 "cells": [
  {
   "cell_type": "markdown",
   "metadata": {},
   "source": [
    "# To run:\n",
    "\n",
    "Use an IDE that will allow you to open a Jupyter Notebook\n",
    "For example, use Anaconda Navigator to open Visual Studio Code\n",
    "You may need to select a kernel to run the program"
   ]
  },
  {
   "cell_type": "code",
   "execution_count": 117,
   "metadata": {},
   "outputs": [],
   "source": [
    "import pandas as pd\n",
    "import numpy as np\n",
    "import random\n"
   ]
  },
  {
   "cell_type": "code",
   "execution_count": 118,
   "metadata": {},
   "outputs": [],
   "source": [
    "#DATA EXPLORATION\n",
    "data = pd.read_csv('../feature_extraction/features.csv')"
   ]
  },
  {
   "cell_type": "code",
   "execution_count": 119,
   "metadata": {},
   "outputs": [
    {
     "data": {
      "text/plain": [
       "pandas.core.frame.DataFrame"
      ]
     },
     "execution_count": 119,
     "metadata": {},
     "output_type": "execute_result"
    }
   ],
   "source": [
    "type(data)"
   ]
  },
  {
   "cell_type": "code",
   "execution_count": 120,
   "metadata": {},
   "outputs": [
    {
     "data": {
      "text/plain": [
       "(40, 5)"
      ]
     },
     "execution_count": 120,
     "metadata": {},
     "output_type": "execute_result"
    }
   ],
   "source": [
    "data.shape"
   ]
  },
  {
   "cell_type": "code",
   "execution_count": 121,
   "metadata": {},
   "outputs": [
    {
     "data": {
      "text/html": [
       "<div>\n",
       "<style scoped>\n",
       "    .dataframe tbody tr th:only-of-type {\n",
       "        vertical-align: middle;\n",
       "    }\n",
       "\n",
       "    .dataframe tbody tr th {\n",
       "        vertical-align: top;\n",
       "    }\n",
       "\n",
       "    .dataframe thead th {\n",
       "        text-align: right;\n",
       "    }\n",
       "</style>\n",
       "<table border=\"1\" class=\"dataframe\">\n",
       "  <thead>\n",
       "    <tr style=\"text-align: right;\">\n",
       "      <th></th>\n",
       "      <th>fileName</th>\n",
       "      <th>Avg_Energy</th>\n",
       "      <th>Spectral_Centroid</th>\n",
       "      <th>Zero_Crossing</th>\n",
       "    </tr>\n",
       "    <tr>\n",
       "      <th>Label</th>\n",
       "      <th></th>\n",
       "      <th></th>\n",
       "      <th></th>\n",
       "      <th></th>\n",
       "    </tr>\n",
       "  </thead>\n",
       "  <tbody>\n",
       "    <tr>\n",
       "      <th>no</th>\n",
       "      <td>20</td>\n",
       "      <td>20</td>\n",
       "      <td>20</td>\n",
       "      <td>20</td>\n",
       "    </tr>\n",
       "    <tr>\n",
       "      <th>yes</th>\n",
       "      <td>20</td>\n",
       "      <td>20</td>\n",
       "      <td>20</td>\n",
       "      <td>20</td>\n",
       "    </tr>\n",
       "  </tbody>\n",
       "</table>\n",
       "</div>"
      ],
      "text/plain": [
       "       fileName  Avg_Energy  Spectral_Centroid  Zero_Crossing\n",
       "Label                                                        \n",
       "no           20          20                 20             20\n",
       "yes          20          20                 20             20"
      ]
     },
     "execution_count": 121,
     "metadata": {},
     "output_type": "execute_result"
    }
   ],
   "source": [
    "# Check for data imbalance\n",
    "# \"no\" is speech\n",
    "# \"yes\" is music\n",
    "data.groupby([\"Label\"]).count()"
   ]
  },
  {
   "cell_type": "code",
   "execution_count": 122,
   "metadata": {},
   "outputs": [
    {
     "data": {
      "text/html": [
       "<div>\n",
       "<style scoped>\n",
       "    .dataframe tbody tr th:only-of-type {\n",
       "        vertical-align: middle;\n",
       "    }\n",
       "\n",
       "    .dataframe tbody tr th {\n",
       "        vertical-align: top;\n",
       "    }\n",
       "\n",
       "    .dataframe thead th {\n",
       "        text-align: right;\n",
       "    }\n",
       "</style>\n",
       "<table border=\"1\" class=\"dataframe\">\n",
       "  <thead>\n",
       "    <tr style=\"text-align: right;\">\n",
       "      <th></th>\n",
       "      <th>fileName</th>\n",
       "      <th>Avg_Energy</th>\n",
       "      <th>Spectral_Centroid</th>\n",
       "      <th>Zero_Crossing</th>\n",
       "      <th>Label</th>\n",
       "    </tr>\n",
       "  </thead>\n",
       "  <tbody>\n",
       "    <tr>\n",
       "      <th>0</th>\n",
       "      <td>sp1.wav</td>\n",
       "      <td>0.000523</td>\n",
       "      <td>1854.469204</td>\n",
       "      <td>0.057359</td>\n",
       "      <td>0</td>\n",
       "    </tr>\n",
       "    <tr>\n",
       "      <th>1</th>\n",
       "      <td>sp2.wav</td>\n",
       "      <td>0.000452</td>\n",
       "      <td>1634.124033</td>\n",
       "      <td>0.045363</td>\n",
       "      <td>0</td>\n",
       "    </tr>\n",
       "    <tr>\n",
       "      <th>2</th>\n",
       "      <td>sp3.wav</td>\n",
       "      <td>0.000500</td>\n",
       "      <td>1680.345306</td>\n",
       "      <td>0.048798</td>\n",
       "      <td>0</td>\n",
       "    </tr>\n",
       "    <tr>\n",
       "      <th>3</th>\n",
       "      <td>sp4.wav</td>\n",
       "      <td>0.106305</td>\n",
       "      <td>1527.499066</td>\n",
       "      <td>0.052835</td>\n",
       "      <td>0</td>\n",
       "    </tr>\n",
       "    <tr>\n",
       "      <th>4</th>\n",
       "      <td>sp5.wav</td>\n",
       "      <td>0.000713</td>\n",
       "      <td>2021.764421</td>\n",
       "      <td>0.068368</td>\n",
       "      <td>0</td>\n",
       "    </tr>\n",
       "  </tbody>\n",
       "</table>\n",
       "</div>"
      ],
      "text/plain": [
       "  fileName  Avg_Energy  Spectral_Centroid  Zero_Crossing  Label\n",
       "0  sp1.wav    0.000523        1854.469204       0.057359      0\n",
       "1  sp2.wav    0.000452        1634.124033       0.045363      0\n",
       "2  sp3.wav    0.000500        1680.345306       0.048798      0\n",
       "3  sp4.wav    0.106305        1527.499066       0.052835      0\n",
       "4  sp5.wav    0.000713        2021.764421       0.068368      0"
      ]
     },
     "execution_count": 122,
     "metadata": {},
     "output_type": "execute_result"
    }
   ],
   "source": [
    "# Replace labels with 0 for speech and 1 for music\n",
    "data[\"Label\"] = (data[\"Label\"] == \"yes\").astype(int)\n",
    "\n",
    "# Check to make sure it worked\n",
    "data.head()"
   ]
  },
  {
   "cell_type": "code",
   "execution_count": 123,
   "metadata": {},
   "outputs": [],
   "source": [
    "# Separate the features (x) from the labels (y)\n",
    "y = data[\"Label\"]                 # Label - sound or music\n",
    "x = data.drop([\"Label\"], axis=1)  # Features"
   ]
  },
  {
   "cell_type": "code",
   "execution_count": 124,
   "metadata": {},
   "outputs": [],
   "source": [
    "# For reproducable results, set the seed\n",
    "# random_seed = 45 \n",
    "random_seed = 22 \n",
    "np.random.seed(random_seed)\n",
    "random.seed(random_seed)\n",
    "\n",
    "# Split into training and testing data \n",
    "from sklearn.model_selection import train_test_split\n",
    "\n",
    "# The directions say to use 1/3 of the data for testing and 2/3 for training\n",
    "x_train, x_test, y_train, y_test = train_test_split(x, y, test_size = 0.33, random_state=random_seed)"
   ]
  },
  {
   "cell_type": "code",
   "execution_count": 125,
   "metadata": {},
   "outputs": [
    {
     "data": {
      "text/plain": [
       "(26, 4)"
      ]
     },
     "execution_count": 125,
     "metadata": {},
     "output_type": "execute_result"
    }
   ],
   "source": [
    "x_train.shape\n"
   ]
  },
  {
   "cell_type": "code",
   "execution_count": 126,
   "metadata": {},
   "outputs": [
    {
     "data": {
      "text/plain": [
       "(14, 4)"
      ]
     },
     "execution_count": 126,
     "metadata": {},
     "output_type": "execute_result"
    }
   ],
   "source": [
    "x_test.shape"
   ]
  },
  {
   "cell_type": "code",
   "execution_count": 127,
   "metadata": {},
   "outputs": [
    {
     "name": "stdout",
     "output_type": "stream",
     "text": [
      "0      sp1.wav\n",
      "2      sp3.wav\n",
      "3      sp4.wav\n",
      "4      sp5.wav\n",
      "5      sp6.wav\n",
      "6      sp7.wav\n",
      "7      sp8.wav\n",
      "8      sp9.wav\n",
      "9     sp10.wav\n",
      "13    sp14.wav\n",
      "14    sp15.wav\n",
      "15    sp16.wav\n",
      "17    sp18.wav\n",
      "18    sp19.wav\n",
      "20     mu1.wav\n",
      "23     mu4.wav\n",
      "24     mu5.wav\n",
      "25     mu6.wav\n",
      "26     mu7.wav\n",
      "28     mu9.wav\n",
      "29    mu10.wav\n",
      "30    mu11.wav\n",
      "31    mu12.wav\n",
      "32    mu13.wav\n",
      "35    mu16.wav\n",
      "36    mu17.wav\n",
      "Name: fileName, dtype: object\n"
     ]
    }
   ],
   "source": [
    "# The directions say to indicate which of the files are used for training\n",
    "print(x_train.sort_index()[\"fileName\"])"
   ]
  },
  {
   "cell_type": "code",
   "execution_count": 128,
   "metadata": {},
   "outputs": [
    {
     "data": {
      "text/html": [
       "<div>\n",
       "<style scoped>\n",
       "    .dataframe tbody tr th:only-of-type {\n",
       "        vertical-align: middle;\n",
       "    }\n",
       "\n",
       "    .dataframe tbody tr th {\n",
       "        vertical-align: top;\n",
       "    }\n",
       "\n",
       "    .dataframe thead th {\n",
       "        text-align: right;\n",
       "    }\n",
       "</style>\n",
       "<table border=\"1\" class=\"dataframe\">\n",
       "  <thead>\n",
       "    <tr style=\"text-align: right;\">\n",
       "      <th></th>\n",
       "      <th>fileName</th>\n",
       "      <th>Avg_Energy</th>\n",
       "      <th>Spectral_Centroid</th>\n",
       "      <th>Zero_Crossing</th>\n",
       "    </tr>\n",
       "  </thead>\n",
       "  <tbody>\n",
       "    <tr>\n",
       "      <th>3</th>\n",
       "      <td>sp4.wav</td>\n",
       "      <td>0.106305</td>\n",
       "      <td>1527.499066</td>\n",
       "      <td>0.052835</td>\n",
       "    </tr>\n",
       "    <tr>\n",
       "      <th>30</th>\n",
       "      <td>mu11.wav</td>\n",
       "      <td>0.006398</td>\n",
       "      <td>1030.011228</td>\n",
       "      <td>0.022409</td>\n",
       "    </tr>\n",
       "    <tr>\n",
       "      <th>6</th>\n",
       "      <td>sp7.wav</td>\n",
       "      <td>0.008305</td>\n",
       "      <td>1251.928995</td>\n",
       "      <td>0.029717</td>\n",
       "    </tr>\n",
       "    <tr>\n",
       "      <th>17</th>\n",
       "      <td>sp18.wav</td>\n",
       "      <td>0.003599</td>\n",
       "      <td>1007.823345</td>\n",
       "      <td>0.022738</td>\n",
       "    </tr>\n",
       "    <tr>\n",
       "      <th>32</th>\n",
       "      <td>mu13.wav</td>\n",
       "      <td>0.016869</td>\n",
       "      <td>1214.985381</td>\n",
       "      <td>0.025760</td>\n",
       "    </tr>\n",
       "    <tr>\n",
       "      <th>25</th>\n",
       "      <td>mu6.wav</td>\n",
       "      <td>0.011002</td>\n",
       "      <td>1392.615335</td>\n",
       "      <td>0.023033</td>\n",
       "    </tr>\n",
       "    <tr>\n",
       "      <th>15</th>\n",
       "      <td>sp16.wav</td>\n",
       "      <td>0.035551</td>\n",
       "      <td>2761.785009</td>\n",
       "      <td>0.078090</td>\n",
       "    </tr>\n",
       "    <tr>\n",
       "      <th>5</th>\n",
       "      <td>sp6.wav</td>\n",
       "      <td>0.000318</td>\n",
       "      <td>889.584765</td>\n",
       "      <td>0.021203</td>\n",
       "    </tr>\n",
       "    <tr>\n",
       "      <th>23</th>\n",
       "      <td>mu4.wav</td>\n",
       "      <td>0.006938</td>\n",
       "      <td>1653.226770</td>\n",
       "      <td>0.042597</td>\n",
       "    </tr>\n",
       "    <tr>\n",
       "      <th>35</th>\n",
       "      <td>mu16.wav</td>\n",
       "      <td>0.017262</td>\n",
       "      <td>1745.315889</td>\n",
       "      <td>0.051440</td>\n",
       "    </tr>\n",
       "    <tr>\n",
       "      <th>9</th>\n",
       "      <td>sp10.wav</td>\n",
       "      <td>0.138994</td>\n",
       "      <td>1489.074983</td>\n",
       "      <td>0.052988</td>\n",
       "    </tr>\n",
       "    <tr>\n",
       "      <th>2</th>\n",
       "      <td>sp3.wav</td>\n",
       "      <td>0.000500</td>\n",
       "      <td>1680.345306</td>\n",
       "      <td>0.048798</td>\n",
       "    </tr>\n",
       "    <tr>\n",
       "      <th>7</th>\n",
       "      <td>sp8.wav</td>\n",
       "      <td>0.016456</td>\n",
       "      <td>864.830305</td>\n",
       "      <td>0.027093</td>\n",
       "    </tr>\n",
       "    <tr>\n",
       "      <th>26</th>\n",
       "      <td>mu7.wav</td>\n",
       "      <td>0.000471</td>\n",
       "      <td>1581.971685</td>\n",
       "      <td>0.047648</td>\n",
       "    </tr>\n",
       "    <tr>\n",
       "      <th>24</th>\n",
       "      <td>mu5.wav</td>\n",
       "      <td>0.000804</td>\n",
       "      <td>1560.401211</td>\n",
       "      <td>0.037886</td>\n",
       "    </tr>\n",
       "    <tr>\n",
       "      <th>13</th>\n",
       "      <td>sp14.wav</td>\n",
       "      <td>0.006607</td>\n",
       "      <td>1517.119390</td>\n",
       "      <td>0.048132</td>\n",
       "    </tr>\n",
       "    <tr>\n",
       "      <th>28</th>\n",
       "      <td>mu9.wav</td>\n",
       "      <td>0.002222</td>\n",
       "      <td>1918.112201</td>\n",
       "      <td>0.035418</td>\n",
       "    </tr>\n",
       "    <tr>\n",
       "      <th>14</th>\n",
       "      <td>sp15.wav</td>\n",
       "      <td>0.003813</td>\n",
       "      <td>1756.474965</td>\n",
       "      <td>0.054105</td>\n",
       "    </tr>\n",
       "    <tr>\n",
       "      <th>18</th>\n",
       "      <td>sp19.wav</td>\n",
       "      <td>0.003395</td>\n",
       "      <td>1539.414354</td>\n",
       "      <td>0.043165</td>\n",
       "    </tr>\n",
       "    <tr>\n",
       "      <th>29</th>\n",
       "      <td>mu10.wav</td>\n",
       "      <td>0.006129</td>\n",
       "      <td>1699.332805</td>\n",
       "      <td>0.047512</td>\n",
       "    </tr>\n",
       "    <tr>\n",
       "      <th>31</th>\n",
       "      <td>mu12.wav</td>\n",
       "      <td>0.010370</td>\n",
       "      <td>2623.654745</td>\n",
       "      <td>0.089417</td>\n",
       "    </tr>\n",
       "    <tr>\n",
       "      <th>8</th>\n",
       "      <td>sp9.wav</td>\n",
       "      <td>0.150303</td>\n",
       "      <td>1246.011423</td>\n",
       "      <td>0.038521</td>\n",
       "    </tr>\n",
       "    <tr>\n",
       "      <th>20</th>\n",
       "      <td>mu1.wav</td>\n",
       "      <td>0.013388</td>\n",
       "      <td>3097.472847</td>\n",
       "      <td>0.093234</td>\n",
       "    </tr>\n",
       "    <tr>\n",
       "      <th>36</th>\n",
       "      <td>mu17.wav</td>\n",
       "      <td>0.076430</td>\n",
       "      <td>1810.726679</td>\n",
       "      <td>0.037302</td>\n",
       "    </tr>\n",
       "    <tr>\n",
       "      <th>0</th>\n",
       "      <td>sp1.wav</td>\n",
       "      <td>0.000523</td>\n",
       "      <td>1854.469204</td>\n",
       "      <td>0.057359</td>\n",
       "    </tr>\n",
       "    <tr>\n",
       "      <th>4</th>\n",
       "      <td>sp5.wav</td>\n",
       "      <td>0.000713</td>\n",
       "      <td>2021.764421</td>\n",
       "      <td>0.068368</td>\n",
       "    </tr>\n",
       "  </tbody>\n",
       "</table>\n",
       "</div>"
      ],
      "text/plain": [
       "    fileName  Avg_Energy  Spectral_Centroid  Zero_Crossing\n",
       "3    sp4.wav    0.106305        1527.499066       0.052835\n",
       "30  mu11.wav    0.006398        1030.011228       0.022409\n",
       "6    sp7.wav    0.008305        1251.928995       0.029717\n",
       "17  sp18.wav    0.003599        1007.823345       0.022738\n",
       "32  mu13.wav    0.016869        1214.985381       0.025760\n",
       "25   mu6.wav    0.011002        1392.615335       0.023033\n",
       "15  sp16.wav    0.035551        2761.785009       0.078090\n",
       "5    sp6.wav    0.000318         889.584765       0.021203\n",
       "23   mu4.wav    0.006938        1653.226770       0.042597\n",
       "35  mu16.wav    0.017262        1745.315889       0.051440\n",
       "9   sp10.wav    0.138994        1489.074983       0.052988\n",
       "2    sp3.wav    0.000500        1680.345306       0.048798\n",
       "7    sp8.wav    0.016456         864.830305       0.027093\n",
       "26   mu7.wav    0.000471        1581.971685       0.047648\n",
       "24   mu5.wav    0.000804        1560.401211       0.037886\n",
       "13  sp14.wav    0.006607        1517.119390       0.048132\n",
       "28   mu9.wav    0.002222        1918.112201       0.035418\n",
       "14  sp15.wav    0.003813        1756.474965       0.054105\n",
       "18  sp19.wav    0.003395        1539.414354       0.043165\n",
       "29  mu10.wav    0.006129        1699.332805       0.047512\n",
       "31  mu12.wav    0.010370        2623.654745       0.089417\n",
       "8    sp9.wav    0.150303        1246.011423       0.038521\n",
       "20   mu1.wav    0.013388        3097.472847       0.093234\n",
       "36  mu17.wav    0.076430        1810.726679       0.037302\n",
       "0    sp1.wav    0.000523        1854.469204       0.057359\n",
       "4    sp5.wav    0.000713        2021.764421       0.068368"
      ]
     },
     "execution_count": 128,
     "metadata": {},
     "output_type": "execute_result"
    }
   ],
   "source": [
    "x_train"
   ]
  },
  {
   "cell_type": "code",
   "execution_count": 129,
   "metadata": {},
   "outputs": [
    {
     "data": {
      "text/plain": [
       "3     0\n",
       "30    1\n",
       "6     0\n",
       "17    0\n",
       "32    1\n",
       "25    1\n",
       "15    0\n",
       "5     0\n",
       "23    1\n",
       "35    1\n",
       "9     0\n",
       "2     0\n",
       "7     0\n",
       "26    1\n",
       "24    1\n",
       "13    0\n",
       "28    1\n",
       "14    0\n",
       "18    0\n",
       "29    1\n",
       "31    1\n",
       "8     0\n",
       "20    1\n",
       "36    1\n",
       "0     0\n",
       "4     0\n",
       "Name: Label, dtype: int32"
      ]
     },
     "execution_count": 129,
     "metadata": {},
     "output_type": "execute_result"
    }
   ],
   "source": [
    "y_train"
   ]
  },
  {
   "cell_type": "code",
   "execution_count": 130,
   "metadata": {},
   "outputs": [
    {
     "data": {
      "text/html": [
       "<div>\n",
       "<style scoped>\n",
       "    .dataframe tbody tr th:only-of-type {\n",
       "        vertical-align: middle;\n",
       "    }\n",
       "\n",
       "    .dataframe tbody tr th {\n",
       "        vertical-align: top;\n",
       "    }\n",
       "\n",
       "    .dataframe thead th {\n",
       "        text-align: right;\n",
       "    }\n",
       "</style>\n",
       "<table border=\"1\" class=\"dataframe\">\n",
       "  <thead>\n",
       "    <tr style=\"text-align: right;\">\n",
       "      <th></th>\n",
       "      <th>fileName</th>\n",
       "      <th>Avg_Energy</th>\n",
       "      <th>Spectral_Centroid</th>\n",
       "      <th>Zero_Crossing</th>\n",
       "    </tr>\n",
       "  </thead>\n",
       "  <tbody>\n",
       "    <tr>\n",
       "      <th>39</th>\n",
       "      <td>mu20.wav</td>\n",
       "      <td>0.000671</td>\n",
       "      <td>1836.124785</td>\n",
       "      <td>0.046168</td>\n",
       "    </tr>\n",
       "    <tr>\n",
       "      <th>38</th>\n",
       "      <td>mu19.wav</td>\n",
       "      <td>0.001807</td>\n",
       "      <td>2167.598472</td>\n",
       "      <td>0.065885</td>\n",
       "    </tr>\n",
       "    <tr>\n",
       "      <th>21</th>\n",
       "      <td>mu2.wav</td>\n",
       "      <td>0.009673</td>\n",
       "      <td>1736.441325</td>\n",
       "      <td>0.036696</td>\n",
       "    </tr>\n",
       "    <tr>\n",
       "      <th>22</th>\n",
       "      <td>mu3.wav</td>\n",
       "      <td>0.007851</td>\n",
       "      <td>1548.419317</td>\n",
       "      <td>0.034848</td>\n",
       "    </tr>\n",
       "    <tr>\n",
       "      <th>33</th>\n",
       "      <td>mu14.wav</td>\n",
       "      <td>0.036653</td>\n",
       "      <td>1227.084409</td>\n",
       "      <td>0.015267</td>\n",
       "    </tr>\n",
       "    <tr>\n",
       "      <th>1</th>\n",
       "      <td>sp2.wav</td>\n",
       "      <td>0.000452</td>\n",
       "      <td>1634.124033</td>\n",
       "      <td>0.045363</td>\n",
       "    </tr>\n",
       "    <tr>\n",
       "      <th>12</th>\n",
       "      <td>sp13.wav</td>\n",
       "      <td>0.177041</td>\n",
       "      <td>1188.009661</td>\n",
       "      <td>0.035488</td>\n",
       "    </tr>\n",
       "    <tr>\n",
       "      <th>16</th>\n",
       "      <td>sp17.wav</td>\n",
       "      <td>0.061655</td>\n",
       "      <td>2752.099550</td>\n",
       "      <td>0.077733</td>\n",
       "    </tr>\n",
       "    <tr>\n",
       "      <th>37</th>\n",
       "      <td>mu18.wav</td>\n",
       "      <td>0.003944</td>\n",
       "      <td>1800.905516</td>\n",
       "      <td>0.051270</td>\n",
       "    </tr>\n",
       "    <tr>\n",
       "      <th>10</th>\n",
       "      <td>sp11.wav</td>\n",
       "      <td>0.000553</td>\n",
       "      <td>1779.976549</td>\n",
       "      <td>0.050720</td>\n",
       "    </tr>\n",
       "    <tr>\n",
       "      <th>27</th>\n",
       "      <td>mu8.wav</td>\n",
       "      <td>0.000861</td>\n",
       "      <td>2373.151564</td>\n",
       "      <td>0.077649</td>\n",
       "    </tr>\n",
       "    <tr>\n",
       "      <th>11</th>\n",
       "      <td>sp12.wav</td>\n",
       "      <td>0.007070</td>\n",
       "      <td>2015.354241</td>\n",
       "      <td>0.064133</td>\n",
       "    </tr>\n",
       "    <tr>\n",
       "      <th>19</th>\n",
       "      <td>sp20.wav</td>\n",
       "      <td>0.015836</td>\n",
       "      <td>940.669267</td>\n",
       "      <td>0.029313</td>\n",
       "    </tr>\n",
       "    <tr>\n",
       "      <th>34</th>\n",
       "      <td>mu15.wav</td>\n",
       "      <td>0.002008</td>\n",
       "      <td>1440.302562</td>\n",
       "      <td>0.044014</td>\n",
       "    </tr>\n",
       "  </tbody>\n",
       "</table>\n",
       "</div>"
      ],
      "text/plain": [
       "    fileName  Avg_Energy  Spectral_Centroid  Zero_Crossing\n",
       "39  mu20.wav    0.000671        1836.124785       0.046168\n",
       "38  mu19.wav    0.001807        2167.598472       0.065885\n",
       "21   mu2.wav    0.009673        1736.441325       0.036696\n",
       "22   mu3.wav    0.007851        1548.419317       0.034848\n",
       "33  mu14.wav    0.036653        1227.084409       0.015267\n",
       "1    sp2.wav    0.000452        1634.124033       0.045363\n",
       "12  sp13.wav    0.177041        1188.009661       0.035488\n",
       "16  sp17.wav    0.061655        2752.099550       0.077733\n",
       "37  mu18.wav    0.003944        1800.905516       0.051270\n",
       "10  sp11.wav    0.000553        1779.976549       0.050720\n",
       "27   mu8.wav    0.000861        2373.151564       0.077649\n",
       "11  sp12.wav    0.007070        2015.354241       0.064133\n",
       "19  sp20.wav    0.015836         940.669267       0.029313\n",
       "34  mu15.wav    0.002008        1440.302562       0.044014"
      ]
     },
     "execution_count": 130,
     "metadata": {},
     "output_type": "execute_result"
    }
   ],
   "source": [
    "x_test"
   ]
  },
  {
   "cell_type": "code",
   "execution_count": 131,
   "metadata": {},
   "outputs": [
    {
     "data": {
      "text/plain": [
       "39    1\n",
       "38    1\n",
       "21    1\n",
       "22    1\n",
       "33    1\n",
       "1     0\n",
       "12    0\n",
       "16    0\n",
       "37    1\n",
       "10    0\n",
       "27    1\n",
       "11    0\n",
       "19    0\n",
       "34    1\n",
       "Name: Label, dtype: int32"
      ]
     },
     "execution_count": 131,
     "metadata": {},
     "output_type": "execute_result"
    }
   ],
   "source": [
    "y_test"
   ]
  },
  {
   "cell_type": "code",
   "execution_count": 132,
   "metadata": {},
   "outputs": [],
   "source": [
    "# Remove the filename, leaving only the features\n",
    "x_train = x_train.drop([\"fileName\"], axis=1)\n",
    "x_test = x_test.drop([\"fileName\"], axis=1)"
   ]
  },
  {
   "cell_type": "code",
   "execution_count": 133,
   "metadata": {},
   "outputs": [
    {
     "data": {
      "text/html": [
       "<style>#sk-container-id-7 {color: black;background-color: white;}#sk-container-id-7 pre{padding: 0;}#sk-container-id-7 div.sk-toggleable {background-color: white;}#sk-container-id-7 label.sk-toggleable__label {cursor: pointer;display: block;width: 100%;margin-bottom: 0;padding: 0.3em;box-sizing: border-box;text-align: center;}#sk-container-id-7 label.sk-toggleable__label-arrow:before {content: \"▸\";float: left;margin-right: 0.25em;color: #696969;}#sk-container-id-7 label.sk-toggleable__label-arrow:hover:before {color: black;}#sk-container-id-7 div.sk-estimator:hover label.sk-toggleable__label-arrow:before {color: black;}#sk-container-id-7 div.sk-toggleable__content {max-height: 0;max-width: 0;overflow: hidden;text-align: left;background-color: #f0f8ff;}#sk-container-id-7 div.sk-toggleable__content pre {margin: 0.2em;color: black;border-radius: 0.25em;background-color: #f0f8ff;}#sk-container-id-7 input.sk-toggleable__control:checked~div.sk-toggleable__content {max-height: 200px;max-width: 100%;overflow: auto;}#sk-container-id-7 input.sk-toggleable__control:checked~label.sk-toggleable__label-arrow:before {content: \"▾\";}#sk-container-id-7 div.sk-estimator input.sk-toggleable__control:checked~label.sk-toggleable__label {background-color: #d4ebff;}#sk-container-id-7 div.sk-label input.sk-toggleable__control:checked~label.sk-toggleable__label {background-color: #d4ebff;}#sk-container-id-7 input.sk-hidden--visually {border: 0;clip: rect(1px 1px 1px 1px);clip: rect(1px, 1px, 1px, 1px);height: 1px;margin: -1px;overflow: hidden;padding: 0;position: absolute;width: 1px;}#sk-container-id-7 div.sk-estimator {font-family: monospace;background-color: #f0f8ff;border: 1px dotted black;border-radius: 0.25em;box-sizing: border-box;margin-bottom: 0.5em;}#sk-container-id-7 div.sk-estimator:hover {background-color: #d4ebff;}#sk-container-id-7 div.sk-parallel-item::after {content: \"\";width: 100%;border-bottom: 1px solid gray;flex-grow: 1;}#sk-container-id-7 div.sk-label:hover label.sk-toggleable__label {background-color: #d4ebff;}#sk-container-id-7 div.sk-serial::before {content: \"\";position: absolute;border-left: 1px solid gray;box-sizing: border-box;top: 0;bottom: 0;left: 50%;z-index: 0;}#sk-container-id-7 div.sk-serial {display: flex;flex-direction: column;align-items: center;background-color: white;padding-right: 0.2em;padding-left: 0.2em;position: relative;}#sk-container-id-7 div.sk-item {position: relative;z-index: 1;}#sk-container-id-7 div.sk-parallel {display: flex;align-items: stretch;justify-content: center;background-color: white;position: relative;}#sk-container-id-7 div.sk-item::before, #sk-container-id-7 div.sk-parallel-item::before {content: \"\";position: absolute;border-left: 1px solid gray;box-sizing: border-box;top: 0;bottom: 0;left: 50%;z-index: -1;}#sk-container-id-7 div.sk-parallel-item {display: flex;flex-direction: column;z-index: 1;position: relative;background-color: white;}#sk-container-id-7 div.sk-parallel-item:first-child::after {align-self: flex-end;width: 50%;}#sk-container-id-7 div.sk-parallel-item:last-child::after {align-self: flex-start;width: 50%;}#sk-container-id-7 div.sk-parallel-item:only-child::after {width: 0;}#sk-container-id-7 div.sk-dashed-wrapped {border: 1px dashed gray;margin: 0 0.4em 0.5em 0.4em;box-sizing: border-box;padding-bottom: 0.4em;background-color: white;}#sk-container-id-7 div.sk-label label {font-family: monospace;font-weight: bold;display: inline-block;line-height: 1.2em;}#sk-container-id-7 div.sk-label-container {text-align: center;}#sk-container-id-7 div.sk-container {/* jupyter's `normalize.less` sets `[hidden] { display: none; }` but bootstrap.min.css set `[hidden] { display: none !important; }` so we also need the `!important` here to be able to override the default hidden behavior on the sphinx rendered scikit-learn.org. See: https://github.com/scikit-learn/scikit-learn/issues/21755 */display: inline-block !important;position: relative;}#sk-container-id-7 div.sk-text-repr-fallback {display: none;}</style><div id=\"sk-container-id-7\" class=\"sk-top-container\"><div class=\"sk-text-repr-fallback\"><pre>SVC()</pre><b>In a Jupyter environment, please rerun this cell to show the HTML representation or trust the notebook. <br />On GitHub, the HTML representation is unable to render, please try loading this page with nbviewer.org.</b></div><div class=\"sk-container\" hidden><div class=\"sk-item\"><div class=\"sk-estimator sk-toggleable\"><input class=\"sk-toggleable__control sk-hidden--visually\" id=\"sk-estimator-id-7\" type=\"checkbox\" checked><label for=\"sk-estimator-id-7\" class=\"sk-toggleable__label sk-toggleable__label-arrow\">SVC</label><div class=\"sk-toggleable__content\"><pre>SVC()</pre></div></div></div></div></div>"
      ],
      "text/plain": [
       "SVC()"
      ]
     },
     "execution_count": 133,
     "metadata": {},
     "output_type": "execute_result"
    }
   ],
   "source": [
    "from sklearn import svm\n",
    "model = svm.SVC()\n",
    "model.fit(x_train, y_train)\n",
    "\n",
    "# https://scikit-learn.org/stable/modules/sgd.html#sgd\n",
    "# https://scikit-learn.org/stable/modules/generated/sklearn.linear_model.Perceptron.html#sklearn.linear_model.Perceptron"
   ]
  },
  {
   "cell_type": "code",
   "execution_count": 134,
   "metadata": {},
   "outputs": [
    {
     "data": {
      "text/plain": [
       "sklearn.svm._classes.SVC"
      ]
     },
     "execution_count": 134,
     "metadata": {},
     "output_type": "execute_result"
    }
   ],
   "source": [
    "type(model)"
   ]
  },
  {
   "cell_type": "code",
   "execution_count": 135,
   "metadata": {},
   "outputs": [],
   "source": [
    "from sklearn.metrics import confusion_matrix\n",
    "import seaborn as sns\n",
    "import matplotlib.pyplot as plt\n",
    "\n",
    "y_pred = (model.predict(x_test) > 0.5).astype(\"int32\")\n",
    "cf_matrix = confusion_matrix(y_test, y_pred) # Comparing what the model predicted vs. the true labels of speech or music\n"
   ]
  },
  {
   "cell_type": "code",
   "execution_count": 136,
   "metadata": {},
   "outputs": [
    {
     "data": {
      "text/plain": [
       "numpy.ndarray"
      ]
     },
     "execution_count": 136,
     "metadata": {},
     "output_type": "execute_result"
    }
   ],
   "source": [
    "type(y_pred)"
   ]
  },
  {
   "cell_type": "code",
   "execution_count": 137,
   "metadata": {},
   "outputs": [
    {
     "data": {
      "text/plain": [
       "numpy.ndarray"
      ]
     },
     "execution_count": 137,
     "metadata": {},
     "output_type": "execute_result"
    }
   ],
   "source": [
    "type(cf_matrix)"
   ]
  },
  {
   "cell_type": "code",
   "execution_count": 138,
   "metadata": {},
   "outputs": [
    {
     "data": {
      "text/plain": [
       "[Text(0, 0.5, 'Not Music'), Text(0, 1.5, 'Music')]"
      ]
     },
     "execution_count": 138,
     "metadata": {},
     "output_type": "execute_result"
    },
    {
     "data": {
      "image/png": "[encoded data removed]",
      "text/plain": [
       "<Figure size 640x480 with 2 Axes>"
      ]
     },
     "metadata": {},
     "output_type": "display_data"
    }
   ],
   "source": [
    "ax= plt.subplot()\n",
    "#annot=True to annotate cells\n",
    "sns.heatmap(cf_matrix, annot=True, ax = ax,cmap='Blues',fmt='')\n",
    "# labels, title and ticks\n",
    "ax.set_xlabel('Predicted labels')\n",
    "ax.set_ylabel('True labels')\n",
    "ax.set_title('Confusion Matrix')\n",
    "ax.xaxis.set_ticklabels(['Not Music', 'Music']); ax.yaxis.set_ticklabels(['Not Music', 'Music'])"
   ]
  },
  {
   "cell_type": "code",
   "execution_count": 139,
   "metadata": {},
   "outputs": [
    {
     "name": "stdout",
     "output_type": "stream",
     "text": [
      "Precision: 0.500000\n",
      "Recall = 0.125000\n"
     ]
    }
   ],
   "source": [
    "from sklearn.metrics import precision_score\n",
    "from sklearn.metrics import recall_score\n",
    "\n",
    "# True postives\n",
    "\n",
    "print('Precision: %.6f' % precision_score(y_test, y_pred, zero_division=1))\n",
    "print('Recall = %.6f' % recall_score(y_test, y_pred, zero_division=1))"
   ]
  }
 ],
 "metadata": {
  "kernelspec": {
   "display_name": "base",
   "language": "python",
   "name": "python3"
  },
  "language_info": {
   "codemirror_mode": {
    "name": "ipython",
    "version": 3
   },
   "file_extension": ".py",
   "mimetype": "text/x-python",
   "name": "python",
   "nbconvert_exporter": "python",
   "pygments_lexer": "ipython3",
   "version": "3.10.9"
  }
 },
 "nbformat": 4,
 "nbformat_minor": 2
}
